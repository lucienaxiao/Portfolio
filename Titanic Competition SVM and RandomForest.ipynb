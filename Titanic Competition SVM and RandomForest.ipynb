{
 "cells": [
  {
   "cell_type": "markdown",
   "id": "52d019d1",
   "metadata": {
    "papermill": {
     "duration": 0.014362,
     "end_time": "2022-10-16T20:15:57.944526",
     "exception": false,
     "start_time": "2022-10-16T20:15:57.930164",
     "status": "completed"
    },
    "tags": []
   },
   "source": [
    "This is my first Kaggle Competition Submission (7th attempt), where I use SVM to predict the survival rate of Titanic passengers.\n",
    "\n",
    "This submission has an accuracy score of 0.78229, and ranked #2474 at the time of submission (Oct. 16th, 2022)."
   ]
  },
  {
   "cell_type": "markdown",
   "id": "8538e60d",
   "metadata": {
    "papermill": {
     "duration": 0.010989,
     "end_time": "2022-10-16T20:15:57.967967",
     "exception": false,
     "start_time": "2022-10-16T20:15:57.956978",
     "status": "completed"
    },
    "tags": []
   },
   "source": [
    "# 1. Load Packages and Data"
   ]
  },
  {
   "cell_type": "code",
   "execution_count": 1,
   "id": "55d54f5a",
   "metadata": {
    "_cell_guid": "b1076dfc-b9ad-4769-8c92-a6c4dae69d19",
    "_uuid": "8f2839f25d086af736a60e9eeb907d3b93b6e0e5",
    "execution": {
     "iopub.execute_input": "2022-10-16T20:15:57.995557Z",
     "iopub.status.busy": "2022-10-16T20:15:57.995053Z",
     "iopub.status.idle": "2022-10-16T20:15:58.040771Z",
     "shell.execute_reply": "2022-10-16T20:15:58.039686Z"
    },
    "papermill": {
     "duration": 0.061838,
     "end_time": "2022-10-16T20:15:58.043748",
     "exception": false,
     "start_time": "2022-10-16T20:15:57.981910",
     "status": "completed"
    },
    "tags": []
   },
   "outputs": [],
   "source": [
    "import numpy as np \n",
    "import pandas as pd \n",
    "import re as re\n",
    "import matplotlib.pyplot as plt\n",
    "%matplotlib inline\n",
    "\n",
    "train_df = pd.read_csv('../input/titanic/train.csv')\n",
    "test_df = pd.read_csv('../input/titanic/test.csv')"
   ]
  },
  {
   "cell_type": "code",
   "execution_count": 2,
   "id": "a8abf9e4",
   "metadata": {
    "execution": {
     "iopub.execute_input": "2022-10-16T20:15:58.068374Z",
     "iopub.status.busy": "2022-10-16T20:15:58.067519Z",
     "iopub.status.idle": "2022-10-16T20:15:58.102908Z",
     "shell.execute_reply": "2022-10-16T20:15:58.101693Z"
    },
    "papermill": {
     "duration": 0.051448,
     "end_time": "2022-10-16T20:15:58.106227",
     "exception": false,
     "start_time": "2022-10-16T20:15:58.054779",
     "status": "completed"
    },
    "tags": []
   },
   "outputs": [
    {
     "data": {
      "text/html": [
       "<div>\n",
       "<style scoped>\n",
       "    .dataframe tbody tr th:only-of-type {\n",
       "        vertical-align: middle;\n",
       "    }\n",
       "\n",
       "    .dataframe tbody tr th {\n",
       "        vertical-align: top;\n",
       "    }\n",
       "\n",
       "    .dataframe thead th {\n",
       "        text-align: right;\n",
       "    }\n",
       "</style>\n",
       "<table border=\"1\" class=\"dataframe\">\n",
       "  <thead>\n",
       "    <tr style=\"text-align: right;\">\n",
       "      <th></th>\n",
       "      <th>PassengerId</th>\n",
       "      <th>Survived</th>\n",
       "      <th>Pclass</th>\n",
       "      <th>Name</th>\n",
       "      <th>Sex</th>\n",
       "      <th>Age</th>\n",
       "      <th>SibSp</th>\n",
       "      <th>Parch</th>\n",
       "      <th>Ticket</th>\n",
       "      <th>Fare</th>\n",
       "      <th>Cabin</th>\n",
       "      <th>Embarked</th>\n",
       "    </tr>\n",
       "  </thead>\n",
       "  <tbody>\n",
       "    <tr>\n",
       "      <th>0</th>\n",
       "      <td>1</td>\n",
       "      <td>0</td>\n",
       "      <td>3</td>\n",
       "      <td>Braund, Mr. Owen Harris</td>\n",
       "      <td>male</td>\n",
       "      <td>22.0</td>\n",
       "      <td>1</td>\n",
       "      <td>0</td>\n",
       "      <td>A/5 21171</td>\n",
       "      <td>7.2500</td>\n",
       "      <td>NaN</td>\n",
       "      <td>S</td>\n",
       "    </tr>\n",
       "    <tr>\n",
       "      <th>1</th>\n",
       "      <td>2</td>\n",
       "      <td>1</td>\n",
       "      <td>1</td>\n",
       "      <td>Cumings, Mrs. John Bradley (Florence Briggs Th...</td>\n",
       "      <td>female</td>\n",
       "      <td>38.0</td>\n",
       "      <td>1</td>\n",
       "      <td>0</td>\n",
       "      <td>PC 17599</td>\n",
       "      <td>71.2833</td>\n",
       "      <td>C85</td>\n",
       "      <td>C</td>\n",
       "    </tr>\n",
       "    <tr>\n",
       "      <th>2</th>\n",
       "      <td>3</td>\n",
       "      <td>1</td>\n",
       "      <td>3</td>\n",
       "      <td>Heikkinen, Miss. Laina</td>\n",
       "      <td>female</td>\n",
       "      <td>26.0</td>\n",
       "      <td>0</td>\n",
       "      <td>0</td>\n",
       "      <td>STON/O2. 3101282</td>\n",
       "      <td>7.9250</td>\n",
       "      <td>NaN</td>\n",
       "      <td>S</td>\n",
       "    </tr>\n",
       "    <tr>\n",
       "      <th>3</th>\n",
       "      <td>4</td>\n",
       "      <td>1</td>\n",
       "      <td>1</td>\n",
       "      <td>Futrelle, Mrs. Jacques Heath (Lily May Peel)</td>\n",
       "      <td>female</td>\n",
       "      <td>35.0</td>\n",
       "      <td>1</td>\n",
       "      <td>0</td>\n",
       "      <td>113803</td>\n",
       "      <td>53.1000</td>\n",
       "      <td>C123</td>\n",
       "      <td>S</td>\n",
       "    </tr>\n",
       "    <tr>\n",
       "      <th>4</th>\n",
       "      <td>5</td>\n",
       "      <td>0</td>\n",
       "      <td>3</td>\n",
       "      <td>Allen, Mr. William Henry</td>\n",
       "      <td>male</td>\n",
       "      <td>35.0</td>\n",
       "      <td>0</td>\n",
       "      <td>0</td>\n",
       "      <td>373450</td>\n",
       "      <td>8.0500</td>\n",
       "      <td>NaN</td>\n",
       "      <td>S</td>\n",
       "    </tr>\n",
       "  </tbody>\n",
       "</table>\n",
       "</div>"
      ],
      "text/plain": [
       "   PassengerId  Survived  Pclass  \\\n",
       "0            1         0       3   \n",
       "1            2         1       1   \n",
       "2            3         1       3   \n",
       "3            4         1       1   \n",
       "4            5         0       3   \n",
       "\n",
       "                                                Name     Sex   Age  SibSp  \\\n",
       "0                            Braund, Mr. Owen Harris    male  22.0      1   \n",
       "1  Cumings, Mrs. John Bradley (Florence Briggs Th...  female  38.0      1   \n",
       "2                             Heikkinen, Miss. Laina  female  26.0      0   \n",
       "3       Futrelle, Mrs. Jacques Heath (Lily May Peel)  female  35.0      1   \n",
       "4                           Allen, Mr. William Henry    male  35.0      0   \n",
       "\n",
       "   Parch            Ticket     Fare Cabin Embarked  \n",
       "0      0         A/5 21171   7.2500   NaN        S  \n",
       "1      0          PC 17599  71.2833   C85        C  \n",
       "2      0  STON/O2. 3101282   7.9250   NaN        S  \n",
       "3      0            113803  53.1000  C123        S  \n",
       "4      0            373450   8.0500   NaN        S  "
      ]
     },
     "execution_count": 2,
     "metadata": {},
     "output_type": "execute_result"
    }
   ],
   "source": [
    "#Display the training and testing datasets\n",
    "train_df.head()"
   ]
  },
  {
   "cell_type": "code",
   "execution_count": 3,
   "id": "30d70c7b",
   "metadata": {
    "execution": {
     "iopub.execute_input": "2022-10-16T20:15:58.133373Z",
     "iopub.status.busy": "2022-10-16T20:15:58.132750Z",
     "iopub.status.idle": "2022-10-16T20:15:58.149917Z",
     "shell.execute_reply": "2022-10-16T20:15:58.148440Z"
    },
    "papermill": {
     "duration": 0.033931,
     "end_time": "2022-10-16T20:15:58.152403",
     "exception": false,
     "start_time": "2022-10-16T20:15:58.118472",
     "status": "completed"
    },
    "tags": []
   },
   "outputs": [
    {
     "data": {
      "text/html": [
       "<div>\n",
       "<style scoped>\n",
       "    .dataframe tbody tr th:only-of-type {\n",
       "        vertical-align: middle;\n",
       "    }\n",
       "\n",
       "    .dataframe tbody tr th {\n",
       "        vertical-align: top;\n",
       "    }\n",
       "\n",
       "    .dataframe thead th {\n",
       "        text-align: right;\n",
       "    }\n",
       "</style>\n",
       "<table border=\"1\" class=\"dataframe\">\n",
       "  <thead>\n",
       "    <tr style=\"text-align: right;\">\n",
       "      <th></th>\n",
       "      <th>PassengerId</th>\n",
       "      <th>Pclass</th>\n",
       "      <th>Name</th>\n",
       "      <th>Sex</th>\n",
       "      <th>Age</th>\n",
       "      <th>SibSp</th>\n",
       "      <th>Parch</th>\n",
       "      <th>Ticket</th>\n",
       "      <th>Fare</th>\n",
       "      <th>Cabin</th>\n",
       "      <th>Embarked</th>\n",
       "    </tr>\n",
       "  </thead>\n",
       "  <tbody>\n",
       "    <tr>\n",
       "      <th>0</th>\n",
       "      <td>892</td>\n",
       "      <td>3</td>\n",
       "      <td>Kelly, Mr. James</td>\n",
       "      <td>male</td>\n",
       "      <td>34.5</td>\n",
       "      <td>0</td>\n",
       "      <td>0</td>\n",
       "      <td>330911</td>\n",
       "      <td>7.8292</td>\n",
       "      <td>NaN</td>\n",
       "      <td>Q</td>\n",
       "    </tr>\n",
       "    <tr>\n",
       "      <th>1</th>\n",
       "      <td>893</td>\n",
       "      <td>3</td>\n",
       "      <td>Wilkes, Mrs. James (Ellen Needs)</td>\n",
       "      <td>female</td>\n",
       "      <td>47.0</td>\n",
       "      <td>1</td>\n",
       "      <td>0</td>\n",
       "      <td>363272</td>\n",
       "      <td>7.0000</td>\n",
       "      <td>NaN</td>\n",
       "      <td>S</td>\n",
       "    </tr>\n",
       "    <tr>\n",
       "      <th>2</th>\n",
       "      <td>894</td>\n",
       "      <td>2</td>\n",
       "      <td>Myles, Mr. Thomas Francis</td>\n",
       "      <td>male</td>\n",
       "      <td>62.0</td>\n",
       "      <td>0</td>\n",
       "      <td>0</td>\n",
       "      <td>240276</td>\n",
       "      <td>9.6875</td>\n",
       "      <td>NaN</td>\n",
       "      <td>Q</td>\n",
       "    </tr>\n",
       "    <tr>\n",
       "      <th>3</th>\n",
       "      <td>895</td>\n",
       "      <td>3</td>\n",
       "      <td>Wirz, Mr. Albert</td>\n",
       "      <td>male</td>\n",
       "      <td>27.0</td>\n",
       "      <td>0</td>\n",
       "      <td>0</td>\n",
       "      <td>315154</td>\n",
       "      <td>8.6625</td>\n",
       "      <td>NaN</td>\n",
       "      <td>S</td>\n",
       "    </tr>\n",
       "    <tr>\n",
       "      <th>4</th>\n",
       "      <td>896</td>\n",
       "      <td>3</td>\n",
       "      <td>Hirvonen, Mrs. Alexander (Helga E Lindqvist)</td>\n",
       "      <td>female</td>\n",
       "      <td>22.0</td>\n",
       "      <td>1</td>\n",
       "      <td>1</td>\n",
       "      <td>3101298</td>\n",
       "      <td>12.2875</td>\n",
       "      <td>NaN</td>\n",
       "      <td>S</td>\n",
       "    </tr>\n",
       "  </tbody>\n",
       "</table>\n",
       "</div>"
      ],
      "text/plain": [
       "   PassengerId  Pclass                                          Name     Sex  \\\n",
       "0          892       3                              Kelly, Mr. James    male   \n",
       "1          893       3              Wilkes, Mrs. James (Ellen Needs)  female   \n",
       "2          894       2                     Myles, Mr. Thomas Francis    male   \n",
       "3          895       3                              Wirz, Mr. Albert    male   \n",
       "4          896       3  Hirvonen, Mrs. Alexander (Helga E Lindqvist)  female   \n",
       "\n",
       "    Age  SibSp  Parch   Ticket     Fare Cabin Embarked  \n",
       "0  34.5      0      0   330911   7.8292   NaN        Q  \n",
       "1  47.0      1      0   363272   7.0000   NaN        S  \n",
       "2  62.0      0      0   240276   9.6875   NaN        Q  \n",
       "3  27.0      0      0   315154   8.6625   NaN        S  \n",
       "4  22.0      1      1  3101298  12.2875   NaN        S  "
      ]
     },
     "execution_count": 3,
     "metadata": {},
     "output_type": "execute_result"
    }
   ],
   "source": [
    "test_df.head()"
   ]
  },
  {
   "cell_type": "markdown",
   "id": "a9dacfcf",
   "metadata": {
    "papermill": {
     "duration": 0.011323,
     "end_time": "2022-10-16T20:15:58.175822",
     "exception": false,
     "start_time": "2022-10-16T20:15:58.164499",
     "status": "completed"
    },
    "tags": []
   },
   "source": [
    "# 2. Handle Missing Values"
   ]
  },
  {
   "cell_type": "code",
   "execution_count": 4,
   "id": "8389962d",
   "metadata": {
    "execution": {
     "iopub.execute_input": "2022-10-16T20:15:58.201546Z",
     "iopub.status.busy": "2022-10-16T20:15:58.200600Z",
     "iopub.status.idle": "2022-10-16T20:15:58.212755Z",
     "shell.execute_reply": "2022-10-16T20:15:58.211602Z"
    },
    "papermill": {
     "duration": 0.027754,
     "end_time": "2022-10-16T20:15:58.215103",
     "exception": false,
     "start_time": "2022-10-16T20:15:58.187349",
     "status": "completed"
    },
    "tags": []
   },
   "outputs": [
    {
     "data": {
      "text/plain": [
       "PassengerId    False\n",
       "Survived       False\n",
       "Pclass         False\n",
       "Name           False\n",
       "Sex            False\n",
       "Age             True\n",
       "SibSp          False\n",
       "Parch          False\n",
       "Ticket         False\n",
       "Fare           False\n",
       "Cabin           True\n",
       "Embarked        True\n",
       "dtype: bool"
      ]
     },
     "execution_count": 4,
     "metadata": {},
     "output_type": "execute_result"
    }
   ],
   "source": [
    "#Check whether the datasets contain missing values.\n",
    "train_df.isnull().any()"
   ]
  },
  {
   "cell_type": "code",
   "execution_count": 5,
   "id": "223af0e0",
   "metadata": {
    "execution": {
     "iopub.execute_input": "2022-10-16T20:15:58.241391Z",
     "iopub.status.busy": "2022-10-16T20:15:58.240761Z",
     "iopub.status.idle": "2022-10-16T20:15:58.251901Z",
     "shell.execute_reply": "2022-10-16T20:15:58.250370Z"
    },
    "papermill": {
     "duration": 0.027211,
     "end_time": "2022-10-16T20:15:58.254631",
     "exception": false,
     "start_time": "2022-10-16T20:15:58.227420",
     "status": "completed"
    },
    "tags": []
   },
   "outputs": [
    {
     "data": {
      "text/plain": [
       "PassengerId    False\n",
       "Pclass         False\n",
       "Name           False\n",
       "Sex            False\n",
       "Age             True\n",
       "SibSp          False\n",
       "Parch          False\n",
       "Ticket         False\n",
       "Fare            True\n",
       "Cabin           True\n",
       "Embarked       False\n",
       "dtype: bool"
      ]
     },
     "execution_count": 5,
     "metadata": {},
     "output_type": "execute_result"
    }
   ],
   "source": [
    "#Check missing values in test_df\n",
    "test_df.isnull().any()"
   ]
  },
  {
   "cell_type": "markdown",
   "id": "fb830504",
   "metadata": {
    "papermill": {
     "duration": 0.011377,
     "end_time": "2022-10-16T20:15:58.277771",
     "exception": false,
     "start_time": "2022-10-16T20:15:58.266394",
     "status": "completed"
    },
    "tags": []
   },
   "source": [
    "The training set has missing values in the columns 'Age', 'Cabin', 'Embarked'. The testing set has missing values in the columns 'Age', 'Fare', 'Cabin'. Let's check what are the percentages of missing values in these columns."
   ]
  },
  {
   "cell_type": "code",
   "execution_count": 6,
   "id": "9c77365d",
   "metadata": {
    "execution": {
     "iopub.execute_input": "2022-10-16T20:15:58.304357Z",
     "iopub.status.busy": "2022-10-16T20:15:58.302747Z",
     "iopub.status.idle": "2022-10-16T20:15:58.321097Z",
     "shell.execute_reply": "2022-10-16T20:15:58.319825Z"
    },
    "papermill": {
     "duration": 0.03412,
     "end_time": "2022-10-16T20:15:58.323515",
     "exception": false,
     "start_time": "2022-10-16T20:15:58.289395",
     "status": "completed"
    },
    "tags": []
   },
   "outputs": [
    {
     "data": {
      "text/plain": [
       "Age         19.865320\n",
       "Cabin       77.104377\n",
       "Embarked     0.224467\n",
       "dtype: float64"
      ]
     },
     "execution_count": 6,
     "metadata": {},
     "output_type": "execute_result"
    }
   ],
   "source": [
    "train_df[['Age','Cabin','Embarked']].isnull().sum() * 100 / len(train_df)"
   ]
  },
  {
   "cell_type": "code",
   "execution_count": 7,
   "id": "0a1b21c2",
   "metadata": {
    "execution": {
     "iopub.execute_input": "2022-10-16T20:15:58.349772Z",
     "iopub.status.busy": "2022-10-16T20:15:58.349364Z",
     "iopub.status.idle": "2022-10-16T20:15:58.362796Z",
     "shell.execute_reply": "2022-10-16T20:15:58.361609Z"
    },
    "papermill": {
     "duration": 0.029923,
     "end_time": "2022-10-16T20:15:58.365186",
     "exception": false,
     "start_time": "2022-10-16T20:15:58.335263",
     "status": "completed"
    },
    "tags": []
   },
   "outputs": [
    {
     "data": {
      "text/plain": [
       "Age         20.574163\n",
       "Cabin       78.229665\n",
       "Embarked     0.000000\n",
       "dtype: float64"
      ]
     },
     "execution_count": 7,
     "metadata": {},
     "output_type": "execute_result"
    }
   ],
   "source": [
    "test_df[['Age','Cabin','Embarked']].isnull().sum() * 100 / len(test_df)"
   ]
  },
  {
   "cell_type": "markdown",
   "id": "305169ec",
   "metadata": {
    "papermill": {
     "duration": 0.011661,
     "end_time": "2022-10-16T20:15:58.388757",
     "exception": false,
     "start_time": "2022-10-16T20:15:58.377096",
     "status": "completed"
    },
    "tags": []
   },
   "source": [
    "In both datasets, more than 77% of the values in the 'Cabin' columns are missing, *so I will drop 'Cabin' in the data cleaning step.* In the remainder of this section, I fill in the missing values in 'Age', 'Embarked' and 'Fare' in the respective dataset.\n"
   ]
  },
  {
   "cell_type": "code",
   "execution_count": 8,
   "id": "92d7c35d",
   "metadata": {
    "execution": {
     "iopub.execute_input": "2022-10-16T20:15:58.414834Z",
     "iopub.status.busy": "2022-10-16T20:15:58.414349Z",
     "iopub.status.idle": "2022-10-16T20:15:58.434530Z",
     "shell.execute_reply": "2022-10-16T20:15:58.433062Z"
    },
    "papermill": {
     "duration": 0.03714,
     "end_time": "2022-10-16T20:15:58.437880",
     "exception": false,
     "start_time": "2022-10-16T20:15:58.400740",
     "status": "completed"
    },
    "tags": []
   },
   "outputs": [],
   "source": [
    "#1. Fill in missing 'Age' using random values based on the distribution of 'Age'\n",
    "all_df = [train_df, test_df]\n",
    "for data in all_df:\n",
    "    mean = data['Age'].mean()\n",
    "    std = data['Age'].std()\n",
    "    is_null = data['Age'].isnull().sum()\n",
    "    rand_age = np.random.randint(mean - std, mean + std, size = is_null)\n",
    "\n",
    "    age = data['Age'].copy()\n",
    "    age[np.isnan(age)] = rand_age\n",
    "    data['Age'] = age\n",
    "    data['Age'] = data['Age'].astype(int)"
   ]
  },
  {
   "cell_type": "code",
   "execution_count": 9,
   "id": "7ec30699",
   "metadata": {
    "execution": {
     "iopub.execute_input": "2022-10-16T20:15:58.467130Z",
     "iopub.status.busy": "2022-10-16T20:15:58.466631Z",
     "iopub.status.idle": "2022-10-16T20:15:58.474855Z",
     "shell.execute_reply": "2022-10-16T20:15:58.473933Z"
    },
    "papermill": {
     "duration": 0.026414,
     "end_time": "2022-10-16T20:15:58.477133",
     "exception": false,
     "start_time": "2022-10-16T20:15:58.450719",
     "status": "completed"
    },
    "tags": []
   },
   "outputs": [],
   "source": [
    "#For train_df, fill in missing 'Embarked' using mode\n",
    "train_df['Embarked'] = train_df['Embarked'].fillna(train_df['Embarked'].mode()[0])"
   ]
  },
  {
   "cell_type": "markdown",
   "id": "3a358259",
   "metadata": {
    "papermill": {
     "duration": 0.012429,
     "end_time": "2022-10-16T20:15:58.502275",
     "exception": false,
     "start_time": "2022-10-16T20:15:58.489846",
     "status": "completed"
    },
    "tags": []
   },
   "source": [
    "Since 'Fare' may be correlated with 'Pclass', we will deal with it in Section 3.f Fares."
   ]
  },
  {
   "cell_type": "markdown",
   "id": "c14cf540",
   "metadata": {
    "papermill": {
     "duration": 0.01196,
     "end_time": "2022-10-16T20:15:58.527694",
     "exception": false,
     "start_time": "2022-10-16T20:15:58.515734",
     "status": "completed"
    },
    "tags": []
   },
   "source": [
    "# 3. Feature Engineering\n",
    "\n",
    "In this step, I will check whether the other columns are correlated to the passenger's survival.\n",
    "\n",
    "## a. Pclass"
   ]
  },
  {
   "cell_type": "code",
   "execution_count": 10,
   "id": "0cd06997",
   "metadata": {
    "execution": {
     "iopub.execute_input": "2022-10-16T20:15:58.554035Z",
     "iopub.status.busy": "2022-10-16T20:15:58.552955Z",
     "iopub.status.idle": "2022-10-16T20:15:58.762557Z",
     "shell.execute_reply": "2022-10-16T20:15:58.761455Z"
    },
    "papermill": {
     "duration": 0.225093,
     "end_time": "2022-10-16T20:15:58.764867",
     "exception": false,
     "start_time": "2022-10-16T20:15:58.539774",
     "status": "completed"
    },
    "tags": []
   },
   "outputs": [
    {
     "data": {
      "image/png": "[encoded data removed]",
      "text/plain": [
       "<Figure size 432x288 with 1 Axes>"
      ]
     },
     "metadata": {
      "needs_background": "light"
     },
     "output_type": "display_data"
    }
   ],
   "source": [
    "train_df[['Pclass', 'Survived']].groupby('Pclass').mean().plot(kind='bar');"
   ]
  },
  {
   "cell_type": "markdown",
   "id": "388c47f7",
   "metadata": {
    "papermill": {
     "duration": 0.011837,
     "end_time": "2022-10-16T20:15:58.788962",
     "exception": false,
     "start_time": "2022-10-16T20:15:58.777125",
     "status": "completed"
    },
    "tags": []
   },
   "source": [
    "## b. Sex"
   ]
  },
  {
   "cell_type": "code",
   "execution_count": 11,
   "id": "4f86d40e",
   "metadata": {
    "execution": {
     "iopub.execute_input": "2022-10-16T20:15:58.818348Z",
     "iopub.status.busy": "2022-10-16T20:15:58.817676Z",
     "iopub.status.idle": "2022-10-16T20:15:58.982490Z",
     "shell.execute_reply": "2022-10-16T20:15:58.981327Z"
    },
    "papermill": {
     "duration": 0.182492,
     "end_time": "2022-10-16T20:15:58.984924",
     "exception": false,
     "start_time": "2022-10-16T20:15:58.802432",
     "status": "completed"
    },
    "tags": []
   },
   "outputs": [
    {
     "data": {
      "image/png": "[encoded data removed]",
      "text/plain": [
       "<Figure size 432x288 with 1 Axes>"
      ]
     },
     "metadata": {
      "needs_background": "light"
     },
     "output_type": "display_data"
    }
   ],
   "source": [
    "train_df[['Sex', 'Survived']].groupby('Sex').mean().plot(kind='bar');"
   ]
  },
  {
   "cell_type": "markdown",
   "id": "634fc957",
   "metadata": {
    "papermill": {
     "duration": 0.013224,
     "end_time": "2022-10-16T20:15:59.010650",
     "exception": false,
     "start_time": "2022-10-16T20:15:58.997426",
     "status": "completed"
    },
    "tags": []
   },
   "source": [
    "## b. Name"
   ]
  },
  {
   "cell_type": "markdown",
   "id": "5696c2ed",
   "metadata": {
    "papermill": {
     "duration": 0.012723,
     "end_time": "2022-10-16T20:15:59.036508",
     "exception": false,
     "start_time": "2022-10-16T20:15:59.023785",
     "status": "completed"
    },
    "tags": []
   },
   "source": [
    "A quick glance over the first 5 rows in the datasets shows that the 'Name' columns also contain passenger titles, so we check whether the titles have impacts the survival."
   ]
  },
  {
   "cell_type": "code",
   "execution_count": 12,
   "id": "54724f09",
   "metadata": {
    "execution": {
     "iopub.execute_input": "2022-10-16T20:15:59.063131Z",
     "iopub.status.busy": "2022-10-16T20:15:59.062750Z",
     "iopub.status.idle": "2022-10-16T20:15:59.077017Z",
     "shell.execute_reply": "2022-10-16T20:15:59.075878Z"
    },
    "papermill": {
     "duration": 0.030398,
     "end_time": "2022-10-16T20:15:59.079421",
     "exception": false,
     "start_time": "2022-10-16T20:15:59.049023",
     "status": "completed"
    },
    "tags": []
   },
   "outputs": [],
   "source": [
    "#Use regex to extract title \n",
    "def get_title(name):\n",
    "    find_title = re.search('([A-Z][a-z]+)\\.', name)\n",
    "    if find_title:\n",
    "        return find_title.group(1)\n",
    "    else:\n",
    "        return ''\n",
    "\n",
    "#Replace 'Name' column by 'Title' column.\n",
    "train_df['Title'] = train_df['Name'].apply(get_title)\n",
    "train_df = train_df.drop('Name', axis = 1)\n",
    "test_df['Title'] = test_df['Name'].apply(get_title)\n",
    "test_df = test_df.drop('Name', axis = 1)\n"
   ]
  },
  {
   "cell_type": "code",
   "execution_count": 13,
   "id": "af46af3c",
   "metadata": {
    "execution": {
     "iopub.execute_input": "2022-10-16T20:15:59.107638Z",
     "iopub.status.busy": "2022-10-16T20:15:59.107221Z",
     "iopub.status.idle": "2022-10-16T20:15:59.119531Z",
     "shell.execute_reply": "2022-10-16T20:15:59.118385Z"
    },
    "papermill": {
     "duration": 0.029004,
     "end_time": "2022-10-16T20:15:59.121821",
     "exception": false,
     "start_time": "2022-10-16T20:15:59.092817",
     "status": "completed"
    },
    "tags": []
   },
   "outputs": [
    {
     "data": {
      "text/plain": [
       "Title     Sex   \n",
       "Mr        male      517\n",
       "Miss      female    182\n",
       "Mrs       female    125\n",
       "Master    male       40\n",
       "Rev       male        6\n",
       "Dr        male        6\n",
       "Mlle      female      2\n",
       "Major     male        2\n",
       "Col       male        2\n",
       "Ms        female      1\n",
       "Mme       female      1\n",
       "Capt      male        1\n",
       "Lady      female      1\n",
       "Jonkheer  male        1\n",
       "Dr        female      1\n",
       "Don       male        1\n",
       "Countess  female      1\n",
       "Sir       male        1\n",
       "dtype: int64"
      ]
     },
     "execution_count": 13,
     "metadata": {},
     "output_type": "execute_result"
    }
   ],
   "source": [
    "train_df[['Title','Sex']].value_counts()"
   ]
  },
  {
   "cell_type": "code",
   "execution_count": 14,
   "id": "a3838949",
   "metadata": {
    "execution": {
     "iopub.execute_input": "2022-10-16T20:15:59.148989Z",
     "iopub.status.busy": "2022-10-16T20:15:59.148565Z",
     "iopub.status.idle": "2022-10-16T20:15:59.452284Z",
     "shell.execute_reply": "2022-10-16T20:15:59.451095Z"
    },
    "papermill": {
     "duration": 0.320133,
     "end_time": "2022-10-16T20:15:59.454817",
     "exception": false,
     "start_time": "2022-10-16T20:15:59.134684",
     "status": "completed"
    },
    "tags": []
   },
   "outputs": [
    {
     "data": {
      "image/png": "[encoded data removed]",
      "text/plain": [
       "<Figure size 432x288 with 1 Axes>"
      ]
     },
     "metadata": {
      "needs_background": "light"
     },
     "output_type": "display_data"
    }
   ],
   "source": [
    "train_df[['Title', 'Survived']].groupby('Title').mean().plot(kind='bar');"
   ]
  },
  {
   "cell_type": "code",
   "execution_count": 15,
   "id": "6596c53b",
   "metadata": {
    "execution": {
     "iopub.execute_input": "2022-10-16T20:15:59.481948Z",
     "iopub.status.busy": "2022-10-16T20:15:59.481571Z",
     "iopub.status.idle": "2022-10-16T20:15:59.493879Z",
     "shell.execute_reply": "2022-10-16T20:15:59.492980Z"
    },
    "papermill": {
     "duration": 0.02855,
     "end_time": "2022-10-16T20:15:59.496242",
     "exception": false,
     "start_time": "2022-10-16T20:15:59.467692",
     "status": "completed"
    },
    "tags": []
   },
   "outputs": [
    {
     "data": {
      "text/plain": [
       "Title   Sex   \n",
       "Mr      male      240\n",
       "Miss    female     78\n",
       "Mrs     female     72\n",
       "Master  male       21\n",
       "Col     male        2\n",
       "Rev     male        2\n",
       "Dona    female      1\n",
       "Dr      male        1\n",
       "Ms      female      1\n",
       "dtype: int64"
      ]
     },
     "execution_count": 15,
     "metadata": {},
     "output_type": "execute_result"
    }
   ],
   "source": [
    "test_df[['Title','Sex']].value_counts()"
   ]
  },
  {
   "cell_type": "markdown",
   "id": "45f46aa8",
   "metadata": {
    "papermill": {
     "duration": 0.013077,
     "end_time": "2022-10-16T20:15:59.522425",
     "exception": false,
     "start_time": "2022-10-16T20:15:59.509348",
     "status": "completed"
    },
    "tags": []
   },
   "source": [
    "We replace titles by their respect mean survival rate."
   ]
  },
  {
   "cell_type": "code",
   "execution_count": 16,
   "id": "97628204",
   "metadata": {
    "execution": {
     "iopub.execute_input": "2022-10-16T20:15:59.551988Z",
     "iopub.status.busy": "2022-10-16T20:15:59.551068Z",
     "iopub.status.idle": "2022-10-16T20:15:59.559152Z",
     "shell.execute_reply": "2022-10-16T20:15:59.558037Z"
    },
    "papermill": {
     "duration": 0.025942,
     "end_time": "2022-10-16T20:15:59.561816",
     "exception": false,
     "start_time": "2022-10-16T20:15:59.535874",
     "status": "completed"
    },
    "tags": []
   },
   "outputs": [],
   "source": [
    "title_df = train_df[['Title', 'Survived']].groupby('Title').mean()"
   ]
  },
  {
   "cell_type": "code",
   "execution_count": 17,
   "id": "fcdd98c0",
   "metadata": {
    "execution": {
     "iopub.execute_input": "2022-10-16T20:15:59.589277Z",
     "iopub.status.busy": "2022-10-16T20:15:59.588870Z",
     "iopub.status.idle": "2022-10-16T20:15:59.603210Z",
     "shell.execute_reply": "2022-10-16T20:15:59.602322Z"
    },
    "papermill": {
     "duration": 0.031067,
     "end_time": "2022-10-16T20:15:59.605759",
     "exception": false,
     "start_time": "2022-10-16T20:15:59.574692",
     "status": "completed"
    },
    "tags": []
   },
   "outputs": [],
   "source": [
    "title_dict = {}\n",
    "for i in range(len(list(title_df.index))):\n",
    "    title_dict[list(title_df.index)[i]] = title_df.iloc[i,0]\n",
    "title_dict['Dona']=0\n",
    "\n",
    "all_df = [train_df, test_df]\n",
    "for data in all_df:\n",
    "    data['Title']=data['Title'].replace(title_dict)"
   ]
  },
  {
   "cell_type": "markdown",
   "id": "e6bd1b22",
   "metadata": {
    "papermill": {
     "duration": 0.012569,
     "end_time": "2022-10-16T20:15:59.631281",
     "exception": false,
     "start_time": "2022-10-16T20:15:59.618712",
     "status": "completed"
    },
    "tags": []
   },
   "source": [
    "## d. SibSp"
   ]
  },
  {
   "cell_type": "code",
   "execution_count": 18,
   "id": "1cf198fd",
   "metadata": {
    "execution": {
     "iopub.execute_input": "2022-10-16T20:15:59.661259Z",
     "iopub.status.busy": "2022-10-16T20:15:59.660246Z",
     "iopub.status.idle": "2022-10-16T20:15:59.855125Z",
     "shell.execute_reply": "2022-10-16T20:15:59.854148Z"
    },
    "papermill": {
     "duration": 0.21281,
     "end_time": "2022-10-16T20:15:59.857588",
     "exception": false,
     "start_time": "2022-10-16T20:15:59.644778",
     "status": "completed"
    },
    "tags": []
   },
   "outputs": [
    {
     "data": {
      "image/png": "[encoded data removed]",
      "text/plain": [
       "<Figure size 432x288 with 1 Axes>"
      ]
     },
     "metadata": {
      "needs_background": "light"
     },
     "output_type": "display_data"
    }
   ],
   "source": [
    "train_df[['SibSp', 'Survived']].groupby('SibSp').mean().plot(kind='bar');"
   ]
  },
  {
   "cell_type": "markdown",
   "id": "58e7fc08",
   "metadata": {
    "papermill": {
     "duration": 0.012762,
     "end_time": "2022-10-16T20:15:59.883662",
     "exception": false,
     "start_time": "2022-10-16T20:15:59.870900",
     "status": "completed"
    },
    "tags": []
   },
   "source": [
    "## e. Parch"
   ]
  },
  {
   "cell_type": "code",
   "execution_count": 19,
   "id": "46564508",
   "metadata": {
    "execution": {
     "iopub.execute_input": "2022-10-16T20:15:59.911289Z",
     "iopub.status.busy": "2022-10-16T20:15:59.910886Z",
     "iopub.status.idle": "2022-10-16T20:16:00.087002Z",
     "shell.execute_reply": "2022-10-16T20:16:00.085711Z"
    },
    "papermill": {
     "duration": 0.192749,
     "end_time": "2022-10-16T20:16:00.089544",
     "exception": false,
     "start_time": "2022-10-16T20:15:59.896795",
     "status": "completed"
    },
    "tags": []
   },
   "outputs": [
    {
     "data": {
      "image/png": "[encoded data removed]",
      "text/plain": [
       "<Figure size 432x288 with 1 Axes>"
      ]
     },
     "metadata": {
      "needs_background": "light"
     },
     "output_type": "display_data"
    }
   ],
   "source": [
    "train_df[['Parch', 'Survived']].groupby('Parch').mean().plot(kind='bar');"
   ]
  },
  {
   "cell_type": "markdown",
   "id": "4e3cbfbc",
   "metadata": {
    "papermill": {
     "duration": 0.013629,
     "end_time": "2022-10-16T20:16:00.116982",
     "exception": false,
     "start_time": "2022-10-16T20:16:00.103353",
     "status": "completed"
    },
    "tags": []
   },
   "source": [
    "## f. Fare"
   ]
  },
  {
   "cell_type": "markdown",
   "id": "20e168f0",
   "metadata": {
    "papermill": {
     "duration": 0.014203,
     "end_time": "2022-10-16T20:16:00.144943",
     "exception": false,
     "start_time": "2022-10-16T20:16:00.130740",
     "status": "completed"
    },
    "tags": []
   },
   "source": [
    "First, we check whether Fare is correlated with Pclass."
   ]
  },
  {
   "cell_type": "code",
   "execution_count": 20,
   "id": "9561724f",
   "metadata": {
    "execution": {
     "iopub.execute_input": "2022-10-16T20:16:00.174086Z",
     "iopub.status.busy": "2022-10-16T20:16:00.173415Z",
     "iopub.status.idle": "2022-10-16T20:16:00.438265Z",
     "shell.execute_reply": "2022-10-16T20:16:00.436961Z"
    },
    "papermill": {
     "duration": 0.28323,
     "end_time": "2022-10-16T20:16:00.441532",
     "exception": false,
     "start_time": "2022-10-16T20:16:00.158302",
     "status": "completed"
    },
    "tags": []
   },
   "outputs": [
    {
     "data": {
      "image/png": "[encoded data removed]",
      "text/plain": [
       "<Figure size 432x288 with 1 Axes>"
      ]
     },
     "metadata": {
      "needs_background": "light"
     },
     "output_type": "display_data"
    }
   ],
   "source": [
    "fig = plt.figure()\n",
    "ax = plt.subplot(111)\n",
    "for i in range(1,4):\n",
    "    ax.boxplot(train_df.loc[(train_df['Pclass']==i)][['Fare']], positions = [i])"
   ]
  },
  {
   "cell_type": "code",
   "execution_count": 21,
   "id": "cdc24d7e",
   "metadata": {
    "execution": {
     "iopub.execute_input": "2022-10-16T20:16:00.471587Z",
     "iopub.status.busy": "2022-10-16T20:16:00.470561Z",
     "iopub.status.idle": "2022-10-16T20:16:00.488775Z",
     "shell.execute_reply": "2022-10-16T20:16:00.487239Z"
    },
    "papermill": {
     "duration": 0.03547,
     "end_time": "2022-10-16T20:16:00.491262",
     "exception": false,
     "start_time": "2022-10-16T20:16:00.455792",
     "status": "completed"
    },
    "tags": []
   },
   "outputs": [
    {
     "name": "stdout",
     "output_type": "stream",
     "text": [
      "Fare    False\n",
      "dtype: bool\n",
      "Fare    False\n",
      "dtype: bool\n",
      "Fare    True\n",
      "dtype: bool\n"
     ]
    },
    {
     "data": {
      "text/plain": [
       "1"
      ]
     },
     "execution_count": 21,
     "metadata": {},
     "output_type": "execute_result"
    }
   ],
   "source": [
    "for i in range(1,4):\n",
    "    print(test_df.loc[(test_df['Pclass']==i)][['Fare']].isnull().any())\n",
    "test_df[\"Fare\"].isnull().sum()"
   ]
  },
  {
   "cell_type": "markdown",
   "id": "eafa7c7f",
   "metadata": {
    "papermill": {
     "duration": 0.014603,
     "end_time": "2022-10-16T20:16:00.520860",
     "exception": false,
     "start_time": "2022-10-16T20:16:00.506257",
     "status": "completed"
    },
    "tags": []
   },
   "source": [
    "Indeed, there seems to be a correlation between Fare and Pclass. Moreover, the only missing value in 'Fare' shows up when 'Pclass' is 3. So we replace the missing value by the mean fare prices for Pclass == 3."
   ]
  },
  {
   "cell_type": "code",
   "execution_count": 22,
   "id": "e46b42fd",
   "metadata": {
    "execution": {
     "iopub.execute_input": "2022-10-16T20:16:00.553013Z",
     "iopub.status.busy": "2022-10-16T20:16:00.552368Z",
     "iopub.status.idle": "2022-10-16T20:16:00.561698Z",
     "shell.execute_reply": "2022-10-16T20:16:00.560506Z"
    },
    "papermill": {
     "duration": 0.028505,
     "end_time": "2022-10-16T20:16:00.564295",
     "exception": false,
     "start_time": "2022-10-16T20:16:00.535790",
     "status": "completed"
    },
    "tags": []
   },
   "outputs": [],
   "source": [
    "mean = test_df.loc[(test_df['Pclass']==3)][['Fare']].mean()[0]\n",
    "test_df['Fare'] = test_df['Fare'].fillna(value=mean)"
   ]
  },
  {
   "cell_type": "markdown",
   "id": "d6ccaf7c",
   "metadata": {
    "papermill": {
     "duration": 0.013314,
     "end_time": "2022-10-16T20:16:00.591762",
     "exception": false,
     "start_time": "2022-10-16T20:16:00.578448",
     "status": "completed"
    },
    "tags": []
   },
   "source": [
    "## g. Embarked\n",
    "Note that we have already filled in the missing values in this column. So we check the mean survival rate on the original data and the modified data respectively."
   ]
  },
  {
   "cell_type": "code",
   "execution_count": 23,
   "id": "4f00c431",
   "metadata": {
    "execution": {
     "iopub.execute_input": "2022-10-16T20:16:00.622234Z",
     "iopub.status.busy": "2022-10-16T20:16:00.621646Z",
     "iopub.status.idle": "2022-10-16T20:16:00.771587Z",
     "shell.execute_reply": "2022-10-16T20:16:00.770037Z"
    },
    "papermill": {
     "duration": 0.169595,
     "end_time": "2022-10-16T20:16:00.775619",
     "exception": false,
     "start_time": "2022-10-16T20:16:00.606024",
     "status": "completed"
    },
    "tags": []
   },
   "outputs": [
    {
     "data": {
      "text/plain": [
       "<AxesSubplot:xlabel='Embarked'>"
      ]
     },
     "execution_count": 23,
     "metadata": {},
     "output_type": "execute_result"
    },
    {
     "data": {
      "image/png": "[encoded data removed]",
      "text/plain": [
       "<Figure size 432x288 with 1 Axes>"
      ]
     },
     "metadata": {
      "needs_background": "light"
     },
     "output_type": "display_data"
    }
   ],
   "source": [
    "pd.read_csv('../input/titanic/train.csv')[['Embarked', 'Survived']].groupby('Embarked').mean().plot(kind='bar')"
   ]
  },
  {
   "cell_type": "code",
   "execution_count": 24,
   "id": "e8b180b8",
   "metadata": {
    "execution": {
     "iopub.execute_input": "2022-10-16T20:16:00.812926Z",
     "iopub.status.busy": "2022-10-16T20:16:00.812432Z",
     "iopub.status.idle": "2022-10-16T20:16:01.006434Z",
     "shell.execute_reply": "2022-10-16T20:16:01.005399Z"
    },
    "papermill": {
     "duration": 0.218607,
     "end_time": "2022-10-16T20:16:01.009196",
     "exception": false,
     "start_time": "2022-10-16T20:16:00.790589",
     "status": "completed"
    },
    "tags": []
   },
   "outputs": [
    {
     "data": {
      "text/plain": [
       "<AxesSubplot:xlabel='Embarked'>"
      ]
     },
     "execution_count": 24,
     "metadata": {},
     "output_type": "execute_result"
    },
    {
     "data": {
      "image/png": "[encoded data removed]",
      "text/plain": [
       "<Figure size 432x288 with 1 Axes>"
      ]
     },
     "metadata": {
      "needs_background": "light"
     },
     "output_type": "display_data"
    }
   ],
   "source": [
    "train_df[['Embarked', 'Survived']].groupby('Embarked').mean().plot(kind='bar')"
   ]
  },
  {
   "cell_type": "markdown",
   "id": "4e9a017e",
   "metadata": {
    "papermill": {
     "duration": 0.015248,
     "end_time": "2022-10-16T20:16:01.039377",
     "exception": false,
     "start_time": "2022-10-16T20:16:01.024129",
     "status": "completed"
    },
    "tags": []
   },
   "source": [
    "There's no significant difference. It seems to have been a good idea to fill in the missing values by the mode."
   ]
  },
  {
   "cell_type": "markdown",
   "id": "24e3c3ae",
   "metadata": {
    "papermill": {
     "duration": 0.01383,
     "end_time": "2022-10-16T20:16:01.068467",
     "exception": false,
     "start_time": "2022-10-16T20:16:01.054637",
     "status": "completed"
    },
    "tags": []
   },
   "source": [
    "# 3. Data Cleaning"
   ]
  },
  {
   "cell_type": "markdown",
   "id": "b43bd4d5",
   "metadata": {
    "papermill": {
     "duration": 0.014932,
     "end_time": "2022-10-16T20:16:01.098072",
     "exception": false,
     "start_time": "2022-10-16T20:16:01.083140",
     "status": "completed"
    },
    "tags": []
   },
   "source": [
    "Now we are ready to drop the unnecessary columns: 'PassengerId', 'Ticket', 'Cabin'."
   ]
  },
  {
   "cell_type": "code",
   "execution_count": 25,
   "id": "29bfa00c",
   "metadata": {
    "execution": {
     "iopub.execute_input": "2022-10-16T20:16:01.129405Z",
     "iopub.status.busy": "2022-10-16T20:16:01.128499Z",
     "iopub.status.idle": "2022-10-16T20:16:01.146547Z",
     "shell.execute_reply": "2022-10-16T20:16:01.145384Z"
    },
    "papermill": {
     "duration": 0.036622,
     "end_time": "2022-10-16T20:16:01.148976",
     "exception": false,
     "start_time": "2022-10-16T20:16:01.112354",
     "status": "completed"
    },
    "tags": []
   },
   "outputs": [
    {
     "data": {
      "text/html": [
       "<div>\n",
       "<style scoped>\n",
       "    .dataframe tbody tr th:only-of-type {\n",
       "        vertical-align: middle;\n",
       "    }\n",
       "\n",
       "    .dataframe tbody tr th {\n",
       "        vertical-align: top;\n",
       "    }\n",
       "\n",
       "    .dataframe thead th {\n",
       "        text-align: right;\n",
       "    }\n",
       "</style>\n",
       "<table border=\"1\" class=\"dataframe\">\n",
       "  <thead>\n",
       "    <tr style=\"text-align: right;\">\n",
       "      <th></th>\n",
       "      <th>Survived</th>\n",
       "      <th>Pclass</th>\n",
       "      <th>Sex</th>\n",
       "      <th>Age</th>\n",
       "      <th>SibSp</th>\n",
       "      <th>Parch</th>\n",
       "      <th>Fare</th>\n",
       "      <th>Embarked</th>\n",
       "      <th>Title</th>\n",
       "    </tr>\n",
       "  </thead>\n",
       "  <tbody>\n",
       "    <tr>\n",
       "      <th>0</th>\n",
       "      <td>0</td>\n",
       "      <td>3</td>\n",
       "      <td>male</td>\n",
       "      <td>22</td>\n",
       "      <td>1</td>\n",
       "      <td>0</td>\n",
       "      <td>7.2500</td>\n",
       "      <td>S</td>\n",
       "      <td>0.156673</td>\n",
       "    </tr>\n",
       "    <tr>\n",
       "      <th>1</th>\n",
       "      <td>1</td>\n",
       "      <td>1</td>\n",
       "      <td>female</td>\n",
       "      <td>38</td>\n",
       "      <td>1</td>\n",
       "      <td>0</td>\n",
       "      <td>71.2833</td>\n",
       "      <td>C</td>\n",
       "      <td>0.792000</td>\n",
       "    </tr>\n",
       "    <tr>\n",
       "      <th>2</th>\n",
       "      <td>1</td>\n",
       "      <td>3</td>\n",
       "      <td>female</td>\n",
       "      <td>26</td>\n",
       "      <td>0</td>\n",
       "      <td>0</td>\n",
       "      <td>7.9250</td>\n",
       "      <td>S</td>\n",
       "      <td>0.697802</td>\n",
       "    </tr>\n",
       "    <tr>\n",
       "      <th>3</th>\n",
       "      <td>1</td>\n",
       "      <td>1</td>\n",
       "      <td>female</td>\n",
       "      <td>35</td>\n",
       "      <td>1</td>\n",
       "      <td>0</td>\n",
       "      <td>53.1000</td>\n",
       "      <td>S</td>\n",
       "      <td>0.792000</td>\n",
       "    </tr>\n",
       "    <tr>\n",
       "      <th>4</th>\n",
       "      <td>0</td>\n",
       "      <td>3</td>\n",
       "      <td>male</td>\n",
       "      <td>35</td>\n",
       "      <td>0</td>\n",
       "      <td>0</td>\n",
       "      <td>8.0500</td>\n",
       "      <td>S</td>\n",
       "      <td>0.156673</td>\n",
       "    </tr>\n",
       "  </tbody>\n",
       "</table>\n",
       "</div>"
      ],
      "text/plain": [
       "   Survived  Pclass     Sex  Age  SibSp  Parch     Fare Embarked     Title\n",
       "0         0       3    male   22      1      0   7.2500        S  0.156673\n",
       "1         1       1  female   38      1      0  71.2833        C  0.792000\n",
       "2         1       3  female   26      0      0   7.9250        S  0.697802\n",
       "3         1       1  female   35      1      0  53.1000        S  0.792000\n",
       "4         0       3    male   35      0      0   8.0500        S  0.156673"
      ]
     },
     "execution_count": 25,
     "metadata": {},
     "output_type": "execute_result"
    }
   ],
   "source": [
    "train_df = train_df.drop(['PassengerId','Ticket','Cabin'], axis=1)\n",
    "test_df = test_df.drop(['PassengerId','Ticket','Cabin'], axis=1)\n",
    "train_df.head()"
   ]
  },
  {
   "cell_type": "markdown",
   "id": "42322a1b",
   "metadata": {
    "papermill": {
     "duration": 0.014604,
     "end_time": "2022-10-16T20:16:01.178020",
     "exception": false,
     "start_time": "2022-10-16T20:16:01.163416",
     "status": "completed"
    },
    "tags": []
   },
   "source": [
    "Finally, let's encode the categorical data."
   ]
  },
  {
   "cell_type": "code",
   "execution_count": 26,
   "id": "75411a20",
   "metadata": {
    "execution": {
     "iopub.execute_input": "2022-10-16T20:16:01.209549Z",
     "iopub.status.busy": "2022-10-16T20:16:01.208516Z",
     "iopub.status.idle": "2022-10-16T20:16:01.221483Z",
     "shell.execute_reply": "2022-10-16T20:16:01.220237Z"
    },
    "papermill": {
     "duration": 0.031572,
     "end_time": "2022-10-16T20:16:01.224181",
     "exception": false,
     "start_time": "2022-10-16T20:16:01.192609",
     "status": "completed"
    },
    "tags": []
   },
   "outputs": [],
   "source": [
    "#Encode categorical data\n",
    "train_df['Embarked'] = train_df['Embarked'].astype('category').cat.codes\n",
    "test_df['Embarked'] = test_df['Embarked'].astype('category').cat.codes\n",
    "train_df['Sex'] = train_df['Sex'].astype('category').cat.codes\n",
    "test_df['Sex'] = test_df['Sex'].astype('category').cat.codes"
   ]
  },
  {
   "cell_type": "markdown",
   "id": "62f96089",
   "metadata": {
    "papermill": {
     "duration": 0.014433,
     "end_time": "2022-10-16T20:16:01.253239",
     "exception": false,
     "start_time": "2022-10-16T20:16:01.238806",
     "status": "completed"
    },
    "tags": []
   },
   "source": [
    "# 4. Train and Predict"
   ]
  },
  {
   "cell_type": "code",
   "execution_count": 27,
   "id": "37ba81fe",
   "metadata": {
    "execution": {
     "iopub.execute_input": "2022-10-16T20:16:01.285868Z",
     "iopub.status.busy": "2022-10-16T20:16:01.285456Z",
     "iopub.status.idle": "2022-10-16T20:16:01.292643Z",
     "shell.execute_reply": "2022-10-16T20:16:01.291583Z"
    },
    "papermill": {
     "duration": 0.026237,
     "end_time": "2022-10-16T20:16:01.294910",
     "exception": false,
     "start_time": "2022-10-16T20:16:01.268673",
     "status": "completed"
    },
    "tags": []
   },
   "outputs": [],
   "source": [
    "X_train = train_df.drop(\"Survived\", axis=1)\n",
    "y_train = train_df[\"Survived\"]\n",
    "X_test  = test_df"
   ]
  },
  {
   "cell_type": "code",
   "execution_count": 28,
   "id": "2570686c",
   "metadata": {
    "execution": {
     "iopub.execute_input": "2022-10-16T20:16:01.326377Z",
     "iopub.status.busy": "2022-10-16T20:16:01.325729Z",
     "iopub.status.idle": "2022-10-16T20:16:02.215666Z",
     "shell.execute_reply": "2022-10-16T20:16:02.214363Z"
    },
    "papermill": {
     "duration": 0.909154,
     "end_time": "2022-10-16T20:16:02.218618",
     "exception": false,
     "start_time": "2022-10-16T20:16:01.309464",
     "status": "completed"
    },
    "tags": []
   },
   "outputs": [],
   "source": [
    "#Feature Scaling\n",
    "from sklearn.preprocessing import StandardScaler\n",
    "sc = StandardScaler()\n",
    "X_train = sc.fit_transform(X_train)\n",
    "X_test = sc.transform(X_test)"
   ]
  },
  {
   "cell_type": "code",
   "execution_count": 29,
   "id": "54d6f0d9",
   "metadata": {
    "execution": {
     "iopub.execute_input": "2022-10-16T20:16:02.250161Z",
     "iopub.status.busy": "2022-10-16T20:16:02.249785Z",
     "iopub.status.idle": "2022-10-16T20:16:02.411248Z",
     "shell.execute_reply": "2022-10-16T20:16:02.410293Z"
    },
    "papermill": {
     "duration": 0.180493,
     "end_time": "2022-10-16T20:16:02.414114",
     "exception": false,
     "start_time": "2022-10-16T20:16:02.233621",
     "status": "completed"
    },
    "tags": []
   },
   "outputs": [],
   "source": [
    "#Train model using SVM\n",
    "from sklearn.svm import SVC\n",
    "model = SVC()\n",
    "model.fit(X_train, y_train) \n",
    "y_pred = model.predict(X_test)"
   ]
  },
  {
   "cell_type": "code",
   "execution_count": 30,
   "id": "85cea6e4",
   "metadata": {
    "execution": {
     "iopub.execute_input": "2022-10-16T20:16:02.445420Z",
     "iopub.status.busy": "2022-10-16T20:16:02.445022Z",
     "iopub.status.idle": "2022-10-16T20:16:02.492828Z",
     "shell.execute_reply": "2022-10-16T20:16:02.491738Z"
    },
    "papermill": {
     "duration": 0.066264,
     "end_time": "2022-10-16T20:16:02.495076",
     "exception": false,
     "start_time": "2022-10-16T20:16:02.428812",
     "status": "completed"
    },
    "tags": []
   },
   "outputs": [
    {
     "data": {
      "text/plain": [
       "84.4"
      ]
     },
     "execution_count": 30,
     "metadata": {},
     "output_type": "execute_result"
    }
   ],
   "source": [
    "#Check model accuracy\n",
    "from sklearn.metrics import accuracy_score\n",
    "model.score(X_train, y_train)\n",
    "model = round(model.score(X_train, y_train) * 100, 2)\n",
    "model"
   ]
  },
  {
   "cell_type": "code",
   "execution_count": 31,
   "id": "b8762466",
   "metadata": {
    "execution": {
     "iopub.execute_input": "2022-10-16T20:16:02.526035Z",
     "iopub.status.busy": "2022-10-16T20:16:02.525659Z",
     "iopub.status.idle": "2022-10-16T20:16:02.876771Z",
     "shell.execute_reply": "2022-10-16T20:16:02.875385Z"
    },
    "papermill": {
     "duration": 0.369531,
     "end_time": "2022-10-16T20:16:02.879345",
     "exception": false,
     "start_time": "2022-10-16T20:16:02.509814",
     "status": "completed"
    },
    "tags": []
   },
   "outputs": [
    {
     "data": {
      "text/plain": [
       "0.8855218855218855"
      ]
     },
     "execution_count": 31,
     "metadata": {},
     "output_type": "execute_result"
    }
   ],
   "source": [
    "#Train model using random forest and check accuracy\n",
    "from sklearn.ensemble import RandomForestClassifier\n",
    "clf = RandomForestClassifier(max_depth=7, random_state=42)\n",
    "clf.fit(X_train, y_train)\n",
    "y_pred_1 = clf.predict(X_test)\n",
    "clf.score(X_train, y_train)"
   ]
  },
  {
   "cell_type": "markdown",
   "id": "c3b8d0ce",
   "metadata": {
    "papermill": {
     "duration": 0.01522,
     "end_time": "2022-10-16T20:16:02.909253",
     "exception": false,
     "start_time": "2022-10-16T20:16:02.894033",
     "status": "completed"
    },
    "tags": []
   },
   "source": [
    "# 5. Create Submission File"
   ]
  },
  {
   "cell_type": "code",
   "execution_count": 32,
   "id": "680da2a7",
   "metadata": {
    "execution": {
     "iopub.execute_input": "2022-10-16T20:16:02.940578Z",
     "iopub.status.busy": "2022-10-16T20:16:02.940175Z",
     "iopub.status.idle": "2022-10-16T20:16:02.953700Z",
     "shell.execute_reply": "2022-10-16T20:16:02.952700Z"
    },
    "papermill": {
     "duration": 0.032035,
     "end_time": "2022-10-16T20:16:02.956477",
     "exception": false,
     "start_time": "2022-10-16T20:16:02.924442",
     "status": "completed"
    },
    "tags": []
   },
   "outputs": [],
   "source": [
    "submission = pd.DataFrame({\n",
    "        \"PassengerId\": pd.read_csv('../input/titanic/test.csv')[\"PassengerId\"],\n",
    "        \"Survived\": y_pred\n",
    "    })\n",
    "submission.to_csv('./submission.csv', index=False)"
   ]
  }
 ],
 "metadata": {
  "kernelspec": {
   "display_name": "Python 3",
   "language": "python",
   "name": "python3"
  },
  "language_info": {
   "codemirror_mode": {
    "name": "ipython",
    "version": 3
   },
   "file_extension": ".py",
   "mimetype": "text/x-python",
   "name": "python",
   "nbconvert_exporter": "python",
   "pygments_lexer": "ipython3",
   "version": "3.7.12"
  },
  "papermill": {
   "default_parameters": {},
   "duration": 14.851264,
   "end_time": "2022-10-16T20:16:03.795896",
   "environment_variables": {},
   "exception": null,
   "input_path": "__notebook__.ipynb",
   "output_path": "__notebook__.ipynb",
   "parameters": {},
   "start_time": "2022-10-16T20:15:48.944632",
   "version": "2.3.4"
  }
 },
 "nbformat": 4,
 "nbformat_minor": 5
}
